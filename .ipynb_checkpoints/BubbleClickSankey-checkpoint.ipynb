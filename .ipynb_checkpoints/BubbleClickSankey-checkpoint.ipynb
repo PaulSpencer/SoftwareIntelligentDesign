{
 "cells": [
  {
   "cell_type": "code",
   "execution_count": 2,
   "metadata": {},
   "outputs": [
    {
     "data": {
      "text/html": [
       "<script type=\"text/javascript\">window.PlotlyConfig = {MathJaxConfig: 'local'};</script><script type=\"text/javascript\">if (window.MathJax) {MathJax.Hub.Config({SVG: {font: \"STIX-Web\"}});}</script><script>requirejs.config({paths: { 'plotly': ['https://cdn.plot.ly/plotly-latest.min']},});if(!window._Plotly) {require(['plotly'],function(plotly) {window._Plotly=plotly;});}</script>"
      ],
      "text/vnd.plotly.v1+html": [
       "<script type=\"text/javascript\">window.PlotlyConfig = {MathJaxConfig: 'local'};</script><script type=\"text/javascript\">if (window.MathJax) {MathJax.Hub.Config({SVG: {font: \"STIX-Web\"}});}</script><script>requirejs.config({paths: { 'plotly': ['https://cdn.plot.ly/plotly-latest.min']},});if(!window._Plotly) {require(['plotly'],function(plotly) {window._Plotly=plotly;});}</script>"
      ]
     },
     "metadata": {},
     "output_type": "display_data"
    }
   ],
   "source": [
    "import plotly.plotly as py\n",
    "import plotly.graph_objs as go\n",
    "import pandas as pd\n",
    "import plotly.offline as offline\n",
    "\n",
    "offline.init_notebook_mode(connected=True)"
   ]
  },
  {
   "cell_type": "code",
   "execution_count": 3,
   "metadata": {},
   "outputs": [
    {
     "data": {
      "application/vnd.plotly.v1+json": {
       "config": {
        "linkText": "Export to plot.ly",
        "plotlyServerURL": "https://plot.ly",
        "showLink": true
       },
       "data": [
        {
         "mode": "markers",
         "type": "scatter",
         "uid": "c5930af4-876b-4dd8-a527-eae2b6bbe441",
         "x": [
          1,
          2,
          3,
          4
         ],
         "y": [
          2,
          4,
          1,
          5
         ]
        }
       ],
       "layout": {}
      },
      "text/html": [
       "<div id=\"4999581d-c305-4156-ae32-194431f6fb4b\" style=\"height: 525px; width: 100%;\" class=\"plotly-graph-div\"></div><script type=\"text/javascript\">require([\"plotly\"], function(Plotly) { window.PLOTLYENV=window.PLOTLYENV || {};window.PLOTLYENV.BASE_URL=\"https://plot.ly\";Plotly.newPlot(\"4999581d-c305-4156-ae32-194431f6fb4b\", [{\"mode\": \"markers\", \"x\": [1, 2, 3, 4], \"y\": [2, 4, 1, 5], \"type\": \"scatter\", \"uid\": \"8d033eaa-2bae-45d3-912d-62b44ec359d5\"}], {}, {\"showLink\": true, \"linkText\": \"Export to plot.ly\", \"plotlyServerURL\": \"https://plot.ly\"})});</script><script type=\"text/javascript\">window.addEventListener(\"resize\", function(){window._Plotly.Plots.resize(document.getElementById(\"4999581d-c305-4156-ae32-194431f6fb4b\"));});</script>"
      ],
      "text/vnd.plotly.v1+html": [
       "<div id=\"4999581d-c305-4156-ae32-194431f6fb4b\" style=\"height: 525px; width: 100%;\" class=\"plotly-graph-div\"></div><script type=\"text/javascript\">require([\"plotly\"], function(Plotly) { window.PLOTLYENV=window.PLOTLYENV || {};window.PLOTLYENV.BASE_URL=\"https://plot.ly\";Plotly.newPlot(\"4999581d-c305-4156-ae32-194431f6fb4b\", [{\"mode\": \"markers\", \"x\": [1, 2, 3, 4], \"y\": [2, 4, 1, 5], \"type\": \"scatter\", \"uid\": \"8d033eaa-2bae-45d3-912d-62b44ec359d5\"}], {}, {\"showLink\": true, \"linkText\": \"Export to plot.ly\", \"plotlyServerURL\": \"https://plot.ly\"})});</script><script type=\"text/javascript\">window.addEventListener(\"resize\", function(){window._Plotly.Plots.resize(document.getElementById(\"4999581d-c305-4156-ae32-194431f6fb4b\"));});</script>"
      ]
     },
     "metadata": {},
     "output_type": "display_data"
    }
   ],
   "source": [
    "x = [1, 2, 3, 4]\n",
    "y = [2, 4, 1, 5]\n",
    "\n",
    "trace = go.Scatter(x=x,\n",
    "\t\t\t\t   y=y,\n",
    "\t\t\t\t   mode='markers',\n",
    "\t\t\t\t   )\n",
    "\n",
    "data = [trace]\n",
    "\n",
    "offline.iplot(data)"
   ]
  },
  {
   "cell_type": "code",
   "execution_count": 4,
   "metadata": {},
   "outputs": [],
   "source": [
    "z = [70, 40, 30, 20]"
   ]
  },
  {
   "cell_type": "code",
   "execution_count": 5,
   "metadata": {},
   "outputs": [
    {
     "ename": "SyntaxError",
     "evalue": "invalid syntax (<ipython-input-5-7d6c092868e8>, line 5)",
     "output_type": "error",
     "traceback": [
      "\u001b[1;36m  File \u001b[1;32m\"<ipython-input-5-7d6c092868e8>\"\u001b[1;36m, line \u001b[1;32m5\u001b[0m\n\u001b[1;33m    marker = dict(size = z)\u001b[0m\n\u001b[1;37m         ^\u001b[0m\n\u001b[1;31mSyntaxError\u001b[0m\u001b[1;31m:\u001b[0m invalid syntax\n"
     ]
    }
   ],
   "source": [
    "trace = go.Scatter(x=x,\n",
    "\t               y=y,\n",
    "\t               mode='markers'\n",
    "\n",
    "\t               marker = dict(size = z)\n",
    "\t               )"
   ]
  },
  {
   "cell_type": "code",
   "execution_count": 6,
   "metadata": {},
   "outputs": [
    {
     "ename": "SyntaxError",
     "evalue": "invalid syntax (<ipython-input-6-994512307627>, line 5)",
     "output_type": "error",
     "traceback": [
      "\u001b[1;36m  File \u001b[1;32m\"<ipython-input-6-994512307627>\"\u001b[1;36m, line \u001b[1;32m5\u001b[0m\n\u001b[1;33m    marker = dict(size = z)\u001b[0m\n\u001b[1;37m         ^\u001b[0m\n\u001b[1;31mSyntaxError\u001b[0m\u001b[1;31m:\u001b[0m invalid syntax\n"
     ]
    }
   ],
   "source": [
    "trace = go.Scatter(x=x,\n",
    "\t               y=y,\n",
    "\t               mode='markers'\n",
    "\n",
    "\t               marker = dict(size = z)\n",
    ")"
   ]
  },
  {
   "cell_type": "code",
   "execution_count": 7,
   "metadata": {},
   "outputs": [],
   "source": [
    "trace = go.Scatter(x=x,\n",
    "\t               y=y,\n",
    "\t               mode='markers',\n",
    "\n",
    "\t               marker = dict(size = z)\n",
    ")"
   ]
  },
  {
   "cell_type": "code",
   "execution_count": 8,
   "metadata": {},
   "outputs": [
    {
     "data": {
      "application/vnd.plotly.v1+json": {
       "config": {
        "linkText": "Export to plot.ly",
        "plotlyServerURL": "https://plot.ly",
        "showLink": true
       },
       "data": [
        {
         "marker": {
          "size": [
           70,
           40,
           30,
           20
          ]
         },
         "mode": "markers",
         "type": "scatter",
         "uid": "734928b5-cf22-41d5-b043-c13018a3f846",
         "x": [
          1,
          2,
          3,
          4
         ],
         "y": [
          2,
          4,
          1,
          5
         ]
        }
       ],
       "layout": {}
      },
      "text/html": [
       "<div id=\"3d40a6f7-e970-479a-96ab-6afd88d69351\" style=\"height: 525px; width: 100%;\" class=\"plotly-graph-div\"></div><script type=\"text/javascript\">require([\"plotly\"], function(Plotly) { window.PLOTLYENV=window.PLOTLYENV || {};window.PLOTLYENV.BASE_URL=\"https://plot.ly\";Plotly.newPlot(\"3d40a6f7-e970-479a-96ab-6afd88d69351\", [{\"marker\": {\"size\": [70, 40, 30, 20]}, \"mode\": \"markers\", \"x\": [1, 2, 3, 4], \"y\": [2, 4, 1, 5], \"type\": \"scatter\", \"uid\": \"ec5a4436-829e-4882-8901-145a598f5000\"}], {}, {\"showLink\": true, \"linkText\": \"Export to plot.ly\", \"plotlyServerURL\": \"https://plot.ly\"})});</script><script type=\"text/javascript\">window.addEventListener(\"resize\", function(){window._Plotly.Plots.resize(document.getElementById(\"3d40a6f7-e970-479a-96ab-6afd88d69351\"));});</script>"
      ],
      "text/vnd.plotly.v1+html": [
       "<div id=\"3d40a6f7-e970-479a-96ab-6afd88d69351\" style=\"height: 525px; width: 100%;\" class=\"plotly-graph-div\"></div><script type=\"text/javascript\">require([\"plotly\"], function(Plotly) { window.PLOTLYENV=window.PLOTLYENV || {};window.PLOTLYENV.BASE_URL=\"https://plot.ly\";Plotly.newPlot(\"3d40a6f7-e970-479a-96ab-6afd88d69351\", [{\"marker\": {\"size\": [70, 40, 30, 20]}, \"mode\": \"markers\", \"x\": [1, 2, 3, 4], \"y\": [2, 4, 1, 5], \"type\": \"scatter\", \"uid\": \"ec5a4436-829e-4882-8901-145a598f5000\"}], {}, {\"showLink\": true, \"linkText\": \"Export to plot.ly\", \"plotlyServerURL\": \"https://plot.ly\"})});</script><script type=\"text/javascript\">window.addEventListener(\"resize\", function(){window._Plotly.Plots.resize(document.getElementById(\"3d40a6f7-e970-479a-96ab-6afd88d69351\"));});</script>"
      ]
     },
     "metadata": {},
     "output_type": "display_data"
    }
   ],
   "source": [
    "data = [trace]\n",
    "\n",
    "offline.iplot(data)"
   ]
  },
  {
   "cell_type": "code",
   "execution_count": 9,
   "metadata": {},
   "outputs": [],
   "source": [
    "a = [11, 35, 99, 56]"
   ]
  },
  {
   "cell_type": "code",
   "execution_count": 12,
   "metadata": {},
   "outputs": [],
   "source": [
    "trace = go.Scatter(x=x,\n",
    "                   y=y,\n",
    "                   mode='markers',\n",
    "                   \n",
    "                   marker = dict(size = z, \n",
    "                                 \n",
    "                                 color = a,\n",
    "                                 colorscale = 'Rainbow',\n",
    "                                 showscale = True\n",
    "                                )\n",
    ")"
   ]
  },
  {
   "cell_type": "code",
   "execution_count": 13,
   "metadata": {},
   "outputs": [
    {
     "data": {
      "application/vnd.plotly.v1+json": {
       "config": {
        "linkText": "Export to plot.ly",
        "plotlyServerURL": "https://plot.ly",
        "showLink": true
       },
       "data": [
        {
         "marker": {
          "color": [
           11,
           35,
           99,
           56
          ],
          "colorscale": "Rainbow",
          "showscale": true,
          "size": [
           70,
           40,
           30,
           20
          ]
         },
         "mode": "markers",
         "type": "scatter",
         "uid": "1224ea10-3127-4a50-aaf6-e1f1f6814e97",
         "x": [
          1,
          2,
          3,
          4
         ],
         "y": [
          2,
          4,
          1,
          5
         ]
        }
       ],
       "layout": {}
      },
      "text/html": [
       "<div id=\"baaf6b8c-cbab-416f-b2c7-cbe16dc524c6\" style=\"height: 525px; width: 100%;\" class=\"plotly-graph-div\"></div><script type=\"text/javascript\">require([\"plotly\"], function(Plotly) { window.PLOTLYENV=window.PLOTLYENV || {};window.PLOTLYENV.BASE_URL=\"https://plot.ly\";Plotly.newPlot(\"baaf6b8c-cbab-416f-b2c7-cbe16dc524c6\", [{\"marker\": {\"color\": [11, 35, 99, 56], \"colorscale\": \"Rainbow\", \"showscale\": true, \"size\": [70, 40, 30, 20]}, \"mode\": \"markers\", \"x\": [1, 2, 3, 4], \"y\": [2, 4, 1, 5], \"type\": \"scatter\", \"uid\": \"fe0fafe8-410b-4b73-92e8-048621255c30\"}], {}, {\"showLink\": true, \"linkText\": \"Export to plot.ly\", \"plotlyServerURL\": \"https://plot.ly\"})});</script><script type=\"text/javascript\">window.addEventListener(\"resize\", function(){window._Plotly.Plots.resize(document.getElementById(\"baaf6b8c-cbab-416f-b2c7-cbe16dc524c6\"));});</script>"
      ],
      "text/vnd.plotly.v1+html": [
       "<div id=\"baaf6b8c-cbab-416f-b2c7-cbe16dc524c6\" style=\"height: 525px; width: 100%;\" class=\"plotly-graph-div\"></div><script type=\"text/javascript\">require([\"plotly\"], function(Plotly) { window.PLOTLYENV=window.PLOTLYENV || {};window.PLOTLYENV.BASE_URL=\"https://plot.ly\";Plotly.newPlot(\"baaf6b8c-cbab-416f-b2c7-cbe16dc524c6\", [{\"marker\": {\"color\": [11, 35, 99, 56], \"colorscale\": \"Rainbow\", \"showscale\": true, \"size\": [70, 40, 30, 20]}, \"mode\": \"markers\", \"x\": [1, 2, 3, 4], \"y\": [2, 4, 1, 5], \"type\": \"scatter\", \"uid\": \"fe0fafe8-410b-4b73-92e8-048621255c30\"}], {}, {\"showLink\": true, \"linkText\": \"Export to plot.ly\", \"plotlyServerURL\": \"https://plot.ly\"})});</script><script type=\"text/javascript\">window.addEventListener(\"resize\", function(){window._Plotly.Plots.resize(document.getElementById(\"baaf6b8c-cbab-416f-b2c7-cbe16dc524c6\"));});</script>"
      ]
     },
     "metadata": {},
     "output_type": "display_data"
    }
   ],
   "source": [
    "data = [trace]\n",
    "\n",
    "offline.iplot(data)"
   ]
  },
  {
   "cell_type": "code",
   "execution_count": 14,
   "metadata": {},
   "outputs": [],
   "source": [
    "data = pd.read_csv('./demos/datasets/planets.csv')"
   ]
  },
  {
   "cell_type": "code",
   "execution_count": 15,
   "metadata": {},
   "outputs": [
    {
     "data": {
      "text/html": [
       "<div>\n",
       "<style scoped>\n",
       "    .dataframe tbody tr th:only-of-type {\n",
       "        vertical-align: middle;\n",
       "    }\n",
       "\n",
       "    .dataframe tbody tr th {\n",
       "        vertical-align: top;\n",
       "    }\n",
       "\n",
       "    .dataframe thead th {\n",
       "        text-align: right;\n",
       "    }\n",
       "</style>\n",
       "<table border=\"1\" class=\"dataframe\">\n",
       "  <thead>\n",
       "    <tr style=\"text-align: right;\">\n",
       "      <th></th>\n",
       "      <th>planet</th>\n",
       "      <th>no_of_moons</th>\n",
       "      <th>distance_from_sun</th>\n",
       "      <th>period_of_revolution_around_sun</th>\n",
       "      <th>planet_diameter</th>\n",
       "    </tr>\n",
       "  </thead>\n",
       "  <tbody>\n",
       "    <tr>\n",
       "      <th>0</th>\n",
       "      <td>Mercury</td>\n",
       "      <td>0</td>\n",
       "      <td>57.9</td>\n",
       "      <td>87.96</td>\n",
       "      <td>4879</td>\n",
       "    </tr>\n",
       "    <tr>\n",
       "      <th>1</th>\n",
       "      <td>Venus</td>\n",
       "      <td>0</td>\n",
       "      <td>108.2</td>\n",
       "      <td>224.68</td>\n",
       "      <td>12104</td>\n",
       "    </tr>\n",
       "    <tr>\n",
       "      <th>2</th>\n",
       "      <td>Earth</td>\n",
       "      <td>1</td>\n",
       "      <td>149.6</td>\n",
       "      <td>365.26</td>\n",
       "      <td>12756</td>\n",
       "    </tr>\n",
       "    <tr>\n",
       "      <th>3</th>\n",
       "      <td>Mars</td>\n",
       "      <td>2</td>\n",
       "      <td>227.9</td>\n",
       "      <td>686.98</td>\n",
       "      <td>6792</td>\n",
       "    </tr>\n",
       "    <tr>\n",
       "      <th>4</th>\n",
       "      <td>Jupiter</td>\n",
       "      <td>67</td>\n",
       "      <td>778.6</td>\n",
       "      <td>4332.70</td>\n",
       "      <td>142984</td>\n",
       "    </tr>\n",
       "    <tr>\n",
       "      <th>5</th>\n",
       "      <td>Saturn</td>\n",
       "      <td>62</td>\n",
       "      <td>1433.5</td>\n",
       "      <td>10759.09</td>\n",
       "      <td>120536</td>\n",
       "    </tr>\n",
       "    <tr>\n",
       "      <th>6</th>\n",
       "      <td>Uranus</td>\n",
       "      <td>27</td>\n",
       "      <td>2872.5</td>\n",
       "      <td>30707.40</td>\n",
       "      <td>51118</td>\n",
       "    </tr>\n",
       "    <tr>\n",
       "      <th>7</th>\n",
       "      <td>Neptune</td>\n",
       "      <td>14</td>\n",
       "      <td>4495.1</td>\n",
       "      <td>60198.50</td>\n",
       "      <td>49528</td>\n",
       "    </tr>\n",
       "    <tr>\n",
       "      <th>8</th>\n",
       "      <td>Pluto</td>\n",
       "      <td>5</td>\n",
       "      <td>5906.4</td>\n",
       "      <td>90474.90</td>\n",
       "      <td>2370</td>\n",
       "    </tr>\n",
       "  </tbody>\n",
       "</table>\n",
       "</div>"
      ],
      "text/plain": [
       "    planet  no_of_moons  distance_from_sun  period_of_revolution_around_sun  \\\n",
       "0  Mercury            0               57.9                            87.96   \n",
       "1    Venus            0              108.2                           224.68   \n",
       "2    Earth            1              149.6                           365.26   \n",
       "3     Mars            2              227.9                           686.98   \n",
       "4  Jupiter           67              778.6                          4332.70   \n",
       "5   Saturn           62             1433.5                         10759.09   \n",
       "6   Uranus           27             2872.5                         30707.40   \n",
       "7  Neptune           14             4495.1                         60198.50   \n",
       "8    Pluto            5             5906.4                         90474.90   \n",
       "\n",
       "   planet_diameter  \n",
       "0             4879  \n",
       "1            12104  \n",
       "2            12756  \n",
       "3             6792  \n",
       "4           142984  \n",
       "5           120536  \n",
       "6            51118  \n",
       "7            49528  \n",
       "8             2370  "
      ]
     },
     "execution_count": 15,
     "metadata": {},
     "output_type": "execute_result"
    }
   ],
   "source": [
    "data"
   ]
  },
  {
   "cell_type": "code",
   "execution_count": 16,
   "metadata": {},
   "outputs": [],
   "source": [
    "trace = go.Scatter(x = data['planet'],\n",
    "                   \n",
    "                   y = data['distance_from_sun'],\n",
    "                   \n",
    "                   mode = 'markers',\n",
    "                   \n",
    "                   marker =dict(size = data['planet_diameter'],\n",
    "                                sizeref = 1000,\n",
    "\n",
    "                                color = data['no_of_moons'],\n",
    "                                colorscale = 'Rainbow',\n",
    "                                showscale = True\n",
    "                              ), \n",
    "                   \n",
    "                   text =  [str(dia) + ' km' for dia in data['planet_diameter']]\n",
    "    )"
   ]
  },
  {
   "cell_type": "code",
   "execution_count": 17,
   "metadata": {},
   "outputs": [],
   "source": [
    "data = [trace]"
   ]
  },
  {
   "cell_type": "code",
   "execution_count": 18,
   "metadata": {},
   "outputs": [],
   "source": [
    "layout = go.Layout(height = 600, \n",
    "                   width = 900,\n",
    "                   \n",
    "                   title = 'Planets of our Solar System',\n",
    "                   \n",
    "                   hovermode = 'closest')"
   ]
  },
  {
   "cell_type": "code",
   "execution_count": 19,
   "metadata": {},
   "outputs": [
    {
     "data": {
      "application/vnd.plotly.v1+json": {
       "config": {
        "linkText": "Export to plot.ly",
        "plotlyServerURL": "https://plot.ly",
        "showLink": true
       },
       "data": [
        {
         "marker": {
          "color": [
           0,
           0,
           1,
           2,
           67,
           62,
           27,
           14,
           5
          ],
          "colorscale": "Rainbow",
          "showscale": true,
          "size": [
           4879,
           12104,
           12756,
           6792,
           142984,
           120536,
           51118,
           49528,
           2370
          ],
          "sizeref": 1000
         },
         "mode": "markers",
         "text": [
          "4879 km",
          "12104 km",
          "12756 km",
          "6792 km",
          "142984 km",
          "120536 km",
          "51118 km",
          "49528 km",
          "2370 km"
         ],
         "type": "scatter",
         "uid": "a64c971d-a7b5-4aba-9341-04c76de9a2f0",
         "x": [
          "Mercury",
          "Venus",
          "Earth",
          "Mars",
          "Jupiter",
          "Saturn",
          "Uranus",
          "Neptune",
          "Pluto"
         ],
         "y": [
          57.9,
          108.2,
          149.6,
          227.9,
          778.6,
          1433.5,
          2872.5,
          4495.1,
          5906.4
         ]
        }
       ],
       "layout": {
        "height": 600,
        "hovermode": "closest",
        "title": "Planets of our Solar System",
        "width": 900
       }
      },
      "text/html": [
       "<div id=\"d6b232e8-0ff5-4758-b262-b4bf1c86e787\" style=\"height: 600px; width: 900px;\" class=\"plotly-graph-div\"></div><script type=\"text/javascript\">require([\"plotly\"], function(Plotly) { window.PLOTLYENV=window.PLOTLYENV || {};window.PLOTLYENV.BASE_URL=\"https://plot.ly\";Plotly.newPlot(\"d6b232e8-0ff5-4758-b262-b4bf1c86e787\", [{\"marker\": {\"color\": [0, 0, 1, 2, 67, 62, 27, 14, 5], \"colorscale\": \"Rainbow\", \"showscale\": true, \"size\": [4879, 12104, 12756, 6792, 142984, 120536, 51118, 49528, 2370], \"sizeref\": 1000}, \"mode\": \"markers\", \"text\": [\"4879 km\", \"12104 km\", \"12756 km\", \"6792 km\", \"142984 km\", \"120536 km\", \"51118 km\", \"49528 km\", \"2370 km\"], \"x\": [\"Mercury\", \"Venus\", \"Earth\", \"Mars\", \"Jupiter\", \"Saturn\", \"Uranus\", \"Neptune\", \"Pluto\"], \"y\": [57.9, 108.2, 149.6, 227.9, 778.6, 1433.5, 2872.5, 4495.1, 5906.4], \"type\": \"scatter\", \"uid\": \"a64c971d-a7b5-4aba-9341-04c76de9a2f0\"}], {\"height\": 600, \"hovermode\": \"closest\", \"title\": \"Planets of our Solar System\", \"width\": 900}, {\"showLink\": true, \"linkText\": \"Export to plot.ly\", \"plotlyServerURL\": \"https://plot.ly\"})});</script>"
      ],
      "text/vnd.plotly.v1+html": [
       "<div id=\"d6b232e8-0ff5-4758-b262-b4bf1c86e787\" style=\"height: 600px; width: 900px;\" class=\"plotly-graph-div\"></div><script type=\"text/javascript\">require([\"plotly\"], function(Plotly) { window.PLOTLYENV=window.PLOTLYENV || {};window.PLOTLYENV.BASE_URL=\"https://plot.ly\";Plotly.newPlot(\"d6b232e8-0ff5-4758-b262-b4bf1c86e787\", [{\"marker\": {\"color\": [0, 0, 1, 2, 67, 62, 27, 14, 5], \"colorscale\": \"Rainbow\", \"showscale\": true, \"size\": [4879, 12104, 12756, 6792, 142984, 120536, 51118, 49528, 2370], \"sizeref\": 1000}, \"mode\": \"markers\", \"text\": [\"4879 km\", \"12104 km\", \"12756 km\", \"6792 km\", \"142984 km\", \"120536 km\", \"51118 km\", \"49528 km\", \"2370 km\"], \"x\": [\"Mercury\", \"Venus\", \"Earth\", \"Mars\", \"Jupiter\", \"Saturn\", \"Uranus\", \"Neptune\", \"Pluto\"], \"y\": [57.9, 108.2, 149.6, 227.9, 778.6, 1433.5, 2872.5, 4495.1, 5906.4], \"type\": \"scatter\", \"uid\": \"a64c971d-a7b5-4aba-9341-04c76de9a2f0\"}], {\"height\": 600, \"hovermode\": \"closest\", \"title\": \"Planets of our Solar System\", \"width\": 900}, {\"showLink\": true, \"linkText\": \"Export to plot.ly\", \"plotlyServerURL\": \"https://plot.ly\"})});</script>"
      ]
     },
     "metadata": {},
     "output_type": "display_data"
    }
   ],
   "source": [
    "fig = go.Figure(data = data, \n",
    "                layout = layout)\n",
    "\n",
    "offline.iplot(fig)"
   ]
  },
  {
   "cell_type": "code",
   "execution_count": 26,
   "metadata": {},
   "outputs": [
    {
     "ename": "ValueError",
     "evalue": "\n    Invalid value of type 'pandas.core.frame.DataFrame' received for the 'data' property of \n        Received value:     planet  no_of_moons  distance_from_sun  period_of_revolution_around_sun  \\\n0  Mercury            0               57.9                            87.96   \n1    Venus            0              108.2                           224.68   \n2    Earth            1              149.6                           365.26   \n3     Mars            2              227.9                           686.98   \n4  Jupiter           67              778.6                          4332.70   \n5   Saturn           62             1433.5                         10759.09   \n6   Uranus           27             2872.5                         30707.40   \n7  Neptune           14             4495.1                         60198.50   \n8    Pluto            5             5906.4                         90474.90   \n\n   planet_diameter  \n0             4879  \n1            12104  \n2            12756  \n3             6792  \n4           142984  \n5           120536  \n6            51118  \n7            49528  \n8             2370  \n\n    The 'data' property is a tuple of trace instances\n    that may be specified as:\n      - A list or tuple of trace instances\n        (e.g. [Scatter(...), Bar(...)])\n      - A list or tuple of dicts of string/value properties where:\n        - The 'type' property specifies the trace type\n            One of: ['area', 'bar', 'barpolar', 'box',\n                     'candlestick', 'carpet', 'choropleth', 'cone',\n                     'contour', 'contourcarpet', 'heatmap',\n                     'heatmapgl', 'histogram', 'histogram2d',\n                     'histogram2dcontour', 'mesh3d', 'ohlc',\n                     'parcats', 'parcoords', 'pie', 'pointcloud',\n                     'sankey', 'scatter', 'scatter3d',\n                     'scattercarpet', 'scattergeo', 'scattergl',\n                     'scattermapbox', 'scatterpolar',\n                     'scatterpolargl', 'scatterternary', 'splom',\n                     'streamtube', 'surface', 'table', 'violin']\n\n        - All remaining properties are passed to the constructor of\n          the specified trace type\n\n        (e.g. [{'type': 'scatter', ...}, {'type': 'bar, ...}])",
     "output_type": "error",
     "traceback": [
      "\u001b[1;31m---------------------------------------------------------------------------\u001b[0m",
      "\u001b[1;31mValueError\u001b[0m                                Traceback (most recent call last)",
      "\u001b[1;32m<ipython-input-26-06817d0827b0>\u001b[0m in \u001b[0;36m<module>\u001b[1;34m()\u001b[0m\n\u001b[0;32m     26\u001b[0m \u001b[1;33m\u001b[0m\u001b[0m\n\u001b[0;32m     27\u001b[0m f.fig = go.Figure(data = data, \n\u001b[1;32m---> 28\u001b[1;33m                 layout = layout)\n\u001b[0m",
      "\u001b[1;32m~\\Anaconda3\\lib\\site-packages\\plotly\\graph_objs\\_figure.py\u001b[0m in \u001b[0;36m__init__\u001b[1;34m(self, data, layout, frames, skip_invalid)\u001b[0m\n\u001b[0;32m    409\u001b[0m             \u001b[1;32mis\u001b[0m \u001b[0minvalid\u001b[0m \u001b[0mAND\u001b[0m \u001b[0mskip_invalid\u001b[0m \u001b[1;32mis\u001b[0m \u001b[1;32mFalse\u001b[0m\u001b[1;33m\u001b[0m\u001b[0m\n\u001b[0;32m    410\u001b[0m         \"\"\"\n\u001b[1;32m--> 411\u001b[1;33m         \u001b[0msuper\u001b[0m\u001b[1;33m(\u001b[0m\u001b[0mFigure\u001b[0m\u001b[1;33m,\u001b[0m \u001b[0mself\u001b[0m\u001b[1;33m)\u001b[0m\u001b[1;33m.\u001b[0m\u001b[0m__init__\u001b[0m\u001b[1;33m(\u001b[0m\u001b[0mdata\u001b[0m\u001b[1;33m,\u001b[0m \u001b[0mlayout\u001b[0m\u001b[1;33m,\u001b[0m \u001b[0mframes\u001b[0m\u001b[1;33m,\u001b[0m \u001b[0mskip_invalid\u001b[0m\u001b[1;33m)\u001b[0m\u001b[1;33m\u001b[0m\u001b[0m\n\u001b[0m\u001b[0;32m    412\u001b[0m \u001b[1;33m\u001b[0m\u001b[0m\n\u001b[0;32m    413\u001b[0m     def add_area(\n",
      "\u001b[1;32m~\\Anaconda3\\lib\\site-packages\\plotly\\basedatatypes.py\u001b[0m in \u001b[0;36m__init__\u001b[1;34m(self, data, layout_plotly, frames, skip_invalid)\u001b[0m\n\u001b[0;32m    139\u001b[0m         \u001b[1;31m# ### Import traces ###\u001b[0m\u001b[1;33m\u001b[0m\u001b[1;33m\u001b[0m\u001b[0m\n\u001b[0;32m    140\u001b[0m         data = self._data_validator.validate_coerce(data,\n\u001b[1;32m--> 141\u001b[1;33m                                                     skip_invalid=skip_invalid)\n\u001b[0m\u001b[0;32m    142\u001b[0m \u001b[1;33m\u001b[0m\u001b[0m\n\u001b[0;32m    143\u001b[0m         \u001b[1;31m# ### Save tuple of trace objects ###\u001b[0m\u001b[1;33m\u001b[0m\u001b[1;33m\u001b[0m\u001b[0m\n",
      "\u001b[1;32m~\\Anaconda3\\lib\\site-packages\\_plotly_utils\\basevalidators.py\u001b[0m in \u001b[0;36mvalidate_coerce\u001b[1;34m(self, v, skip_invalid)\u001b[0m\n\u001b[0;32m   2305\u001b[0m                 \u001b[0mv\u001b[0m \u001b[1;33m=\u001b[0m \u001b[1;33m[\u001b[0m\u001b[1;33m]\u001b[0m\u001b[1;33m\u001b[0m\u001b[0m\n\u001b[0;32m   2306\u001b[0m             \u001b[1;32melse\u001b[0m\u001b[1;33m:\u001b[0m\u001b[1;33m\u001b[0m\u001b[0m\n\u001b[1;32m-> 2307\u001b[1;33m                 \u001b[0mself\u001b[0m\u001b[1;33m.\u001b[0m\u001b[0mraise_invalid_val\u001b[0m\u001b[1;33m(\u001b[0m\u001b[0mv\u001b[0m\u001b[1;33m)\u001b[0m\u001b[1;33m\u001b[0m\u001b[0m\n\u001b[0m\u001b[0;32m   2308\u001b[0m \u001b[1;33m\u001b[0m\u001b[0m\n\u001b[0;32m   2309\u001b[0m         \u001b[1;32mreturn\u001b[0m \u001b[0mv\u001b[0m\u001b[1;33m\u001b[0m\u001b[0m\n",
      "\u001b[1;32m~\\Anaconda3\\lib\\site-packages\\_plotly_utils\\basevalidators.py\u001b[0m in \u001b[0;36mraise_invalid_val\u001b[1;34m(self, v, inds)\u001b[0m\n\u001b[0;32m    252\u001b[0m             \u001b[0mtyp\u001b[0m\u001b[1;33m=\u001b[0m\u001b[0mtype_str\u001b[0m\u001b[1;33m(\u001b[0m\u001b[0mv\u001b[0m\u001b[1;33m)\u001b[0m\u001b[1;33m,\u001b[0m\u001b[1;33m\u001b[0m\u001b[0m\n\u001b[0;32m    253\u001b[0m             \u001b[0mv\u001b[0m\u001b[1;33m=\u001b[0m\u001b[0mrepr\u001b[0m\u001b[1;33m(\u001b[0m\u001b[0mv\u001b[0m\u001b[1;33m)\u001b[0m\u001b[1;33m,\u001b[0m\u001b[1;33m\u001b[0m\u001b[0m\n\u001b[1;32m--> 254\u001b[1;33m             valid_clr_desc=self.description()))\n\u001b[0m\u001b[0;32m    255\u001b[0m \u001b[1;33m\u001b[0m\u001b[0m\n\u001b[0;32m    256\u001b[0m     \u001b[1;32mdef\u001b[0m \u001b[0mraise_invalid_elements\u001b[0m\u001b[1;33m(\u001b[0m\u001b[0mself\u001b[0m\u001b[1;33m,\u001b[0m \u001b[0minvalid_els\u001b[0m\u001b[1;33m)\u001b[0m\u001b[1;33m:\u001b[0m\u001b[1;33m\u001b[0m\u001b[0m\n",
      "\u001b[1;31mValueError\u001b[0m: \n    Invalid value of type 'pandas.core.frame.DataFrame' received for the 'data' property of \n        Received value:     planet  no_of_moons  distance_from_sun  period_of_revolution_around_sun  \\\n0  Mercury            0               57.9                            87.96   \n1    Venus            0              108.2                           224.68   \n2    Earth            1              149.6                           365.26   \n3     Mars            2              227.9                           686.98   \n4  Jupiter           67              778.6                          4332.70   \n5   Saturn           62             1433.5                         10759.09   \n6   Uranus           27             2872.5                         30707.40   \n7  Neptune           14             4495.1                         60198.50   \n8    Pluto            5             5906.4                         90474.90   \n\n   planet_diameter  \n0             4879  \n1            12104  \n2            12756  \n3             6792  \n4           142984  \n5           120536  \n6            51118  \n7            49528  \n8             2370  \n\n    The 'data' property is a tuple of trace instances\n    that may be specified as:\n      - A list or tuple of trace instances\n        (e.g. [Scatter(...), Bar(...)])\n      - A list or tuple of dicts of string/value properties where:\n        - The 'type' property specifies the trace type\n            One of: ['area', 'bar', 'barpolar', 'box',\n                     'candlestick', 'carpet', 'choropleth', 'cone',\n                     'contour', 'contourcarpet', 'heatmap',\n                     'heatmapgl', 'histogram', 'histogram2d',\n                     'histogram2dcontour', 'mesh3d', 'ohlc',\n                     'parcats', 'parcoords', 'pie', 'pointcloud',\n                     'sankey', 'scatter', 'scatter3d',\n                     'scattercarpet', 'scattergeo', 'scattergl',\n                     'scattermapbox', 'scatterpolar',\n                     'scatterpolargl', 'scatterternary', 'splom',\n                     'streamtube', 'surface', 'table', 'violin']\n\n        - All remaining properties are passed to the constructor of\n          the specified trace type\n\n        (e.g. [{'type': 'scatter', ...}, {'type': 'bar, ...}])"
     ]
    }
   ],
   "source": [
    "data = pd.read_csv('./demos/datasets/planets.csv')\n",
    "\n",
    "f = go.FigureWidget([go.Scatter(x = data['planet'],\n",
    "                   \n",
    "                   y = data['distance_from_sun'],\n",
    "                   \n",
    "                   mode = 'markers',\n",
    "                   \n",
    "                   marker =dict(size = data['planet_diameter'],\n",
    "                                sizeref = 1000,\n",
    "\n",
    "                                color = data['no_of_moons'],\n",
    "                                colorscale = 'Rainbow',\n",
    "                                showscale = True\n",
    "                              ), \n",
    "                   \n",
    "                   text =  [str(dia) + ' km' for dia in data['planet_diameter']]\n",
    "    )])\n",
    "\n",
    "f.layout = go.Layout(height = 600, \n",
    "                   width = 900,\n",
    "                   \n",
    "                   title = 'Planets of our Solar System',\n",
    "                   \n",
    "                   hovermode = 'closest')\n",
    "\n",
    "f.fig = go.Figure(data = data, \n",
    "                layout = layout)"
   ]
  },
  {
   "cell_type": "code",
   "execution_count": 1,
   "metadata": {},
   "outputs": [
    {
     "data": {
      "application/vnd.jupyter.widget-view+json": {
       "model_id": "0d2af08e75644b1db5e51d1d699382e1",
       "version_major": 2,
       "version_minor": 0
      },
      "text/plain": [
       "FigureWidget({\n",
       "    'data': [{'marker': {'color': [#a3a7e4, #a3a7e4, #a3a7e4, #a3a7e4, #a3a7e4,\n",
       "               …"
      ]
     },
     "metadata": {},
     "output_type": "display_data"
    },
    {
     "data": {
      "text/html": [
       "<script type=\"text/javascript\">window.PlotlyConfig = {MathJaxConfig: 'local'};</script><script type=\"text/javascript\">if (window.MathJax) {MathJax.Hub.Config({SVG: {font: \"STIX-Web\"}});}</script><script>requirejs.config({paths: { 'plotly': ['https://cdn.plot.ly/plotly-latest.min']},});if(!window._Plotly) {require(['plotly'],function(plotly) {window._Plotly=plotly;});}</script>"
      ],
      "text/vnd.plotly.v1+html": [
       "<script type=\"text/javascript\">window.PlotlyConfig = {MathJaxConfig: 'local'};</script><script type=\"text/javascript\">if (window.MathJax) {MathJax.Hub.Config({SVG: {font: \"STIX-Web\"}});}</script><script>requirejs.config({paths: { 'plotly': ['https://cdn.plot.ly/plotly-latest.min']},});if(!window._Plotly) {require(['plotly'],function(plotly) {window._Plotly=plotly;});}</script>"
      ]
     },
     "metadata": {},
     "output_type": "display_data"
    },
    {
     "data": {
      "application/vnd.plotly.v1+json": {
       "config": {
        "linkText": "Export to plot.ly",
        "plotlyServerURL": "https://plot.ly",
        "showLink": true
       },
       "data": [
        {
         "link": {
          "source": [
           0,
           0,
           0
          ],
          "target": [
           1,
           2,
           3
          ],
          "value": [
           100,
           30,
           55
          ]
         },
         "node": {
          "color": [
           "#262C46",
           "#262C46",
           "#262C46"
          ],
          "label": [
           "Source 1",
           "dest 1",
           "dest 2",
           "dest 3"
          ]
         },
         "type": "sankey",
         "uid": "02ed95b9-ea9b-4972-b4fb-bfef63688a46"
        }
       ],
       "layout": {
        "title": "Refugee movement through Manus and Nauru"
       }
      },
      "text/html": [
       "<div id=\"f01bcb4d-265d-42f1-9b6a-f33489facdaa\" style=\"height: 525px; width: 100%;\" class=\"plotly-graph-div\"></div><script type=\"text/javascript\">require([\"plotly\"], function(Plotly) { window.PLOTLYENV=window.PLOTLYENV || {};window.PLOTLYENV.BASE_URL=\"https://plot.ly\";Plotly.newPlot(\"f01bcb4d-265d-42f1-9b6a-f33489facdaa\", [{\"link\": {\"source\": [0, 0, 0], \"target\": [1, 2, 3], \"value\": [100, 30, 55]}, \"node\": {\"color\": [\"#262C46\", \"#262C46\", \"#262C46\"], \"label\": [\"Source 1\", \"dest 1\", \"dest 2\", \"dest 3\"]}, \"type\": \"sankey\", \"uid\": \"bdda6b12-36e1-4f83-bebd-bbd13d1c1671\"}], {\"title\": \"Refugee movement through Manus and Nauru\"}, {\"showLink\": true, \"linkText\": \"Export to plot.ly\", \"plotlyServerURL\": \"https://plot.ly\"})});</script><script type=\"text/javascript\">window.addEventListener(\"resize\", function(){window._Plotly.Plots.resize(document.getElementById(\"f01bcb4d-265d-42f1-9b6a-f33489facdaa\"));});</script>"
      ],
      "text/vnd.plotly.v1+html": [
       "<div id=\"f01bcb4d-265d-42f1-9b6a-f33489facdaa\" style=\"height: 525px; width: 100%;\" class=\"plotly-graph-div\"></div><script type=\"text/javascript\">require([\"plotly\"], function(Plotly) { window.PLOTLYENV=window.PLOTLYENV || {};window.PLOTLYENV.BASE_URL=\"https://plot.ly\";Plotly.newPlot(\"f01bcb4d-265d-42f1-9b6a-f33489facdaa\", [{\"link\": {\"source\": [0, 0, 0], \"target\": [1, 2, 3], \"value\": [100, 30, 55]}, \"node\": {\"color\": [\"#262C46\", \"#262C46\", \"#262C46\"], \"label\": [\"Source 1\", \"dest 1\", \"dest 2\", \"dest 3\"]}, \"type\": \"sankey\", \"uid\": \"bdda6b12-36e1-4f83-bebd-bbd13d1c1671\"}], {\"title\": \"Refugee movement through Manus and Nauru\"}, {\"showLink\": true, \"linkText\": \"Export to plot.ly\", \"plotlyServerURL\": \"https://plot.ly\"})});</script><script type=\"text/javascript\">window.addEventListener(\"resize\", function(){window._Plotly.Plots.resize(document.getElementById(\"f01bcb4d-265d-42f1-9b6a-f33489facdaa\"));});</script>"
      ]
     },
     "metadata": {},
     "output_type": "display_data"
    }
   ],
   "source": [
    "import plotly.graph_objs as go\n",
    "\n",
    "import numpy as np\n",
    "\n",
    "x = [1, 2, 3, 4]\n",
    "y = [2, 4, 1, 5]\n",
    "\n",
    "f = go.FigureWidget([go.Scatter(x=x, y=y, mode='markers')])\n",
    "\n",
    "scatter = f.data[0]\n",
    "colors = ['#a3a7e4'] * 100\n",
    "scatter.marker.color = colors\n",
    "scatter.marker.size = [10] * 100\n",
    "f.layout.hovermode = 'closest'\n",
    "\n",
    "def update_point(trace, points, selector):\n",
    "    c = list(scatter.marker.color)\n",
    "    s = list(scatter.marker.size)\n",
    "    for i in points.point_inds:\n",
    "        import plotly.plotly as py\n",
    "        import plotly.graph_objs as go\n",
    "        import plotly.offline as offline\n",
    "\n",
    "        offline.init_notebook_mode(connected=True)\n",
    "        import pandas as pd\n",
    "\n",
    "        data = pd.read_csv('sankey.csv')\n",
    "        classNames = pd.read_csv('classnames.csv')\n",
    "\n",
    "        data\n",
    "\n",
    "        data_trace = go.Sankey(node = dict(                                   \n",
    "                                           label =  classNames['Class Names'].dropna(),\n",
    "                                           \n",
    "                                           color = data['Color']),\n",
    "                               \n",
    "                               link = dict(source = data['Source'],\n",
    "                                           target = data['Target'],\n",
    "                                           value = data['Value'])\n",
    "                              )\n",
    "\n",
    "        layout =  dict(title = \"Refugee movement through Manus and Nauru\")\n",
    "\n",
    "        fig = dict(data=[data_trace], \n",
    "                   layout=layout)\n",
    "\n",
    "        offline.iplot(fig)\n",
    "        \n",
    "scatter.on_click(update_point)\n",
    "\n",
    "f"
   ]
  },
  {
   "cell_type": "code",
   "execution_count": null,
   "metadata": {},
   "outputs": [],
   "source": []
  }
 ],
 "metadata": {
  "kernelspec": {
   "display_name": "Python 3",
   "language": "python",
   "name": "python3"
  },
  "language_info": {
   "codemirror_mode": {
    "name": "ipython",
    "version": 3
   },
   "file_extension": ".py",
   "mimetype": "text/x-python",
   "name": "python",
   "nbconvert_exporter": "python",
   "pygments_lexer": "ipython3",
   "version": "3.7.0"
  }
 },
 "nbformat": 4,
 "nbformat_minor": 2
}
